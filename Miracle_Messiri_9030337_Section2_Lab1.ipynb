{
  "nbformat": 4,
  "nbformat_minor": 0,
  "metadata": {
    "colab": {
      "provenance": []
    },
    "kernelspec": {
      "name": "python3",
      "display_name": "Python 3"
    },
    "language_info": {
      "name": "python"
    }
  },
  "cells": [
    {
      "cell_type": "code",
      "source": [
        "import numpy as np"
      ],
      "metadata": {
        "id": "QnSCA9MuC967"
      },
      "execution_count": 2,
      "outputs": []
    },
    {
      "cell_type": "markdown",
      "source": [
        "## PART A - Create a Notebook to demonstrate Numpy Operations"
      ],
      "metadata": {
        "id": "gUau-s8uc7jC"
      }
    },
    {
      "cell_type": "markdown",
      "source": [
        "#### Question 1 -\n",
        "Create an array that starts from the integer 1, ends at 20, incremented by 3."
      ],
      "metadata": {
        "id": "FPYni-FXFr_4"
      }
    },
    {
      "cell_type": "code",
      "source": [
        "np.arange(1,20,3)"
      ],
      "metadata": {
        "colab": {
          "base_uri": "https://localhost:8080/"
        },
        "id": "xiSHOiUOGMxl",
        "outputId": "5545d240-2126-42f0-f061-0417137a2364"
      },
      "execution_count": 3,
      "outputs": [
        {
          "output_type": "execute_result",
          "data": {
            "text/plain": [
              "array([ 1,  4,  7, 10, 13, 16, 19])"
            ]
          },
          "metadata": {},
          "execution_count": 3
        }
      ]
    },
    {
      "cell_type": "markdown",
      "source": [
        "####Question 2\n",
        "Create a new array of shape 3 with random numbers between 0 and 1."
      ],
      "metadata": {
        "id": "bUefVS5TJvZV"
      }
    },
    {
      "cell_type": "code",
      "source": [
        "new_arr = np.random.rand(3)\n",
        "print(f\"New array is {new_arr}\")\n",
        "print(f\"The shape of new array is {new_arr.shape}\")"
      ],
      "metadata": {
        "colab": {
          "base_uri": "https://localhost:8080/"
        },
        "id": "kU06b4U_DRGn",
        "outputId": "f985fb33-cf04-4e13-99fd-393345d912f1"
      },
      "execution_count": 12,
      "outputs": [
        {
          "output_type": "stream",
          "name": "stdout",
          "text": [
            "New array is [0.39414351 0.22510609 0.39100484]\n",
            "The shape of new array is (3,)\n"
          ]
        }
      ]
    },
    {
      "cell_type": "markdown",
      "source": [
        "####Question 3\n",
        " Create a 2 D array [[10,20,45],[30,12,16],[42,17,56]] and perform the following operations:\n",
        "Slice the 2D array to get the first two rows, and slice the 2D array to get the last two rows"
      ],
      "metadata": {
        "id": "7cJV8XOBJ31j"
      }
    },
    {
      "cell_type": "code",
      "source": [
        "arr = np.array([[10,20,45],[30,12,16],[42,17,56]])#\n",
        "print(\"\\nArray:\")\n",
        "print(arr)\n",
        "\n",
        "slice_first_two_rows = arr[:2]\n",
        "print(\"\\nFirst two rows are:\")\n",
        "print(slice_first_two_rows)\n",
        "\n",
        "slice_last_two_rows = arr[1:]\n",
        "print(\"\\nLast two rows are:\")\n",
        "print(slice_last_two_rows)"
      ],
      "metadata": {
        "colab": {
          "base_uri": "https://localhost:8080/"
        },
        "id": "a1fg1DzNGvBB",
        "outputId": "04669a3f-bf26-4f6e-87aa-7a93a2b12959"
      },
      "execution_count": 33,
      "outputs": [
        {
          "output_type": "stream",
          "name": "stdout",
          "text": [
            "\n",
            "Array:\n",
            "[[10 20 45]\n",
            " [30 12 16]\n",
            " [42 17 56]]\n",
            "\n",
            "First two rows are:\n",
            "[[10 20 45]\n",
            " [30 12 16]]\n",
            "\n",
            "Last two rows are:\n",
            "[[30 12 16]\n",
            " [42 17 56]]\n"
          ]
        }
      ]
    },
    {
      "cell_type": "markdown",
      "source": [
        "####Question 4\n",
        "Create two 2x2 arrays and demonstrate how you can stack the elements vertically, horizontally,\n",
        "and split the arrays into smaller arrays."
      ],
      "metadata": {
        "id": "q3CG7A7ConLY"
      }
    },
    {
      "cell_type": "code",
      "source": [
        "arr1 = np.array([[10,20],[30,12]])\n",
        "arr2 = np.array([[42,17],[56,16]])\n",
        "\n",
        "arr3 = np.vstack((arr1,arr2))\n",
        "print(\"\\nVertical stack:\")\n",
        "print(arr3)\n",
        "\n",
        "arr4 = np.hstack((arr1,arr2))\n",
        "print(\"\\nHorizontal stack:\")\n",
        "print(arr4)"
      ],
      "metadata": {
        "id": "WYPHIEv4KSiY",
        "colab": {
          "base_uri": "https://localhost:8080/"
        },
        "outputId": "7db04554-09fc-48dc-d3d0-403546c93dd0"
      },
      "execution_count": 31,
      "outputs": [
        {
          "output_type": "stream",
          "name": "stdout",
          "text": [
            "\n",
            "Vertical stack:\n",
            "[[10 20]\n",
            " [30 12]\n",
            " [42 17]\n",
            " [56 16]]\n",
            "\n",
            "Horizontal stack:\n",
            "[[10 20 42 17]\n",
            " [30 12 56 16]]\n"
          ]
        }
      ]
    },
    {
      "cell_type": "code",
      "source": [
        "# flatten the array\n",
        "flatten_arr = arr4.flatten()\n",
        "print(f\"Flatten array: {flatten_arr}\")\n",
        "\n",
        "# define the size of the subarray\n",
        "n = 3\n",
        "\n",
        "#split the arrays into subarrays\n",
        "subarray = []\n",
        "for i in range(0, len(flatten_arr), n):\n",
        "  subarray.append(flatten_arr[i:i + n])\n",
        "print(f\"Subarray: {subarray}\")"
      ],
      "metadata": {
        "colab": {
          "base_uri": "https://localhost:8080/"
        },
        "id": "O-6YwPyHwC9O",
        "outputId": "446446f3-7562-4244-d8b9-2682e034fc2e"
      },
      "execution_count": 29,
      "outputs": [
        {
          "output_type": "stream",
          "name": "stdout",
          "text": [
            "Flatten array: [10 20 42 17 30 12 56 16]\n",
            "Subarray: [array([10, 20, 42]), array([17, 30, 12]), array([56, 16])]\n"
          ]
        }
      ]
    },
    {
      "cell_type": "markdown",
      "source": [
        "####Question 5\n",
        "Create two matrices 𝑋 = ([[5, 7, 2],[4, 5, 6],[7, 4 ,2]]), 𝑌 = ([[4, 2],[6, 2],[4, 2]]),\n",
        "Is it possible to multiply these matrices?\n",
        "Demonstrate the case when it is not possible to."
      ],
      "metadata": {
        "id": "qYunC1NU1whB"
      }
    },
    {
      "cell_type": "markdown",
      "source": [
        " ##### Answer -\n",
        " Is it possible to multiply these matrices?\n",
        "\n",
        "  Yes, because X has three columns and Y has 3 rows, therefore they are compatible"
      ],
      "metadata": {
        "id": "8Vki0Ajh2hPi"
      }
    },
    {
      "cell_type": "markdown",
      "source": [
        "##### Answer -\n",
        "\n",
        "Demonstrate the case when it is not possible to.\n",
        "\n",
        "In case where Z matrix = ([[4, 2],[6, 2]]). The Z and X matrices can not be multiplied. Z has 2 rows and X has 3 rows, therefore they are not compatible."
      ],
      "metadata": {
        "id": "7xqI6NO_xROI"
      }
    },
    {
      "cell_type": "markdown",
      "source": [
        "#### Question 6\n",
        " Create two arrays, 𝑥 = ([2, −1, −8]) 𝑦 = ([3, 1, −2]),\n",
        "\n",
        "Find the Shape, Number of dimensions of vector x.\n",
        "\n",
        "Reshape the vector x to a matrix of size (3,1) and determine the number of dimensions\n",
        "after reshaping y to a matrix of (3,1)."
      ],
      "metadata": {
        "id": "87VA7CdZ3mfw"
      }
    },
    {
      "cell_type": "code",
      "source": [
        "x = np.array([2, -1, -8])\n",
        "print(\"Shape of x:\", x.shape)\n",
        "print(\"Number of dimensions of x:\", x.ndim)\n",
        "y = x.reshape(3,1)\n",
        "print(\"\\nOutput of y:\")\n",
        "print(y)\n",
        "print(f\"Shape of y: {y.shape}\")\n",
        "print(f\"Number of dimensions of y: {y.ndim}\")"
      ],
      "metadata": {
        "colab": {
          "base_uri": "https://localhost:8080/"
        },
        "id": "Hze4BTGLuIm7",
        "outputId": "b887aca9-4e60-4ddc-bb34-e1ba8c396889"
      },
      "execution_count": 27,
      "outputs": [
        {
          "output_type": "stream",
          "name": "stdout",
          "text": [
            "Shape of x: (3,)\n",
            "Number of dimensions of x: 1\n",
            "\n",
            "Output of y:\n",
            "[[ 2]\n",
            " [-1]\n",
            " [-8]]\n",
            "Shape of y: (3, 1)\n",
            "Number of dimensions of y: 2\n"
          ]
        }
      ]
    },
    {
      "cell_type": "markdown",
      "source": [
        "####Question 7\n",
        " How does broadcasting work? Demonstrate the subtraction, multiplication by considering a 3 x 3\n",
        "matrix."
      ],
      "metadata": {
        "id": "gTLmaXeN478L"
      }
    },
    {
      "cell_type": "code",
      "source": [
        "# Create a 3x3 matrix\n",
        "matrix = np.array([[5, 7, 2],\n",
        "                   [4, 5, 6],\n",
        "                   [7, 4, 2]])\n",
        "\n",
        "# Create a 1x3 array\n",
        "vector = np.array([1, 2, 3])\n",
        "\n",
        "# Subtract the vector from the matrix\n",
        "result_subtraction = matrix - vector\n",
        "\n",
        "print(\"\\nResult of Subtraction:\")\n",
        "print(result_subtraction)\n",
        "\n",
        "\n",
        "# Multiply the matrix by the vector\n",
        "result_multiplication = matrix * vector\n",
        "\n",
        "print(\"\\nResult of Multiplication:\")\n",
        "print(result_multiplication)\n"
      ],
      "metadata": {
        "colab": {
          "base_uri": "https://localhost:8080/"
        },
        "id": "F7_EBdW339jq",
        "outputId": "dbd0efb1-aadd-441a-cc88-bb38775ddb24"
      },
      "execution_count": 36,
      "outputs": [
        {
          "output_type": "stream",
          "name": "stdout",
          "text": [
            "\n",
            "Result of Subtraction:\n",
            "[[ 4  5 -1]\n",
            " [ 3  3  3]\n",
            " [ 6  2 -1]]\n",
            "\n",
            "Result of Multiplication:\n",
            "[[ 5 14  6]\n",
            " [ 4 10 18]\n",
            " [ 7  8  6]]\n"
          ]
        }
      ]
    },
    {
      "cell_type": "markdown",
      "source": [
        "## PART B - Linear Equations"
      ],
      "metadata": {
        "id": "4KtRmfY4dNEq"
      }
    },
    {
      "cell_type": "markdown",
      "source": [
        "### Question B\n",
        "\n",
        "Determine the singularity of the system of equations, comment on the expected solution of the system.\n",
        "Solve the system of equations if possible. Justify the reason why you believe the system can or cannot be\n",
        "solved using NumPy functions."
      ],
      "metadata": {
        "id": "rK-rzz4zlHJY"
      }
    },
    {
      "cell_type": "markdown",
      "source": [
        "#### Part B.1\n",
        "\n",
        "1. 4x + y - 2z = 10\n",
        "2. 2x - 3y + 2z = -4\n",
        "3. x + 2y + 3z = 6"
      ],
      "metadata": {
        "id": "eBR_ELpilMFM"
      }
    },
    {
      "cell_type": "code",
      "source": [
        "import numpy as np\n",
        "\n",
        "# Coefficient matrix A\n",
        "A = np.array([[4, 1, -2],\n",
        "              [2, -3, 2],\n",
        "              [1, 2, 3]])\n",
        "\n",
        "# Calculate the determinant\n",
        "det_A = np.linalg.det(A)\n",
        "\n",
        "print(det_A)\n"
      ],
      "metadata": {
        "colab": {
          "base_uri": "https://localhost:8080/"
        },
        "id": "6O88TWwg6DfS",
        "outputId": "df2c6a52-09ae-452e-a097-5cf320ba8092"
      },
      "execution_count": 5,
      "outputs": [
        {
          "output_type": "stream",
          "name": "stdout",
          "text": [
            "-70.00000000000003\n"
          ]
        }
      ]
    },
    {
      "cell_type": "markdown",
      "source": [],
      "metadata": {
        "id": "T38QI2KYl8A5"
      }
    },
    {
      "cell_type": "code",
      "source": [
        "# Coefficient matrix A\n",
        "A = np.array([[4, 1, -2],\n",
        "              [2, -3, 2],\n",
        "              [1, 2, 3]])\n",
        "\n",
        "# Constants vector b\n",
        "b = np.array([10, -4, 6])\n",
        "\n",
        "# Calculate the inverse of A\n",
        "A_inv = np.linalg.inv(A)\n",
        "\n",
        "# Multiply A_inv by b to get the solution vector\n",
        "solution = np.dot(A_inv, b)\n",
        "\n",
        "# Output the solution\n",
        "print(solution)\n"
      ],
      "metadata": {
        "colab": {
          "base_uri": "https://localhost:8080/"
        },
        "id": "egCMGP8kAcJi",
        "outputId": "74a5f8cb-d554-4ed6-9393-c6977aa843e1"
      },
      "execution_count": 2,
      "outputs": [
        {
          "output_type": "stream",
          "name": "stdout",
          "text": [
            "[ 1.8  2.4 -0.2]\n"
          ]
        }
      ]
    },
    {
      "cell_type": "markdown",
      "source": [
        "The system of equations is non-singular because the det(A)= -70 and not zero. The system has exactly one unique solution, therefore the system can be solved using matrix inversion."
      ],
      "metadata": {
        "id": "7-V-5sln6KQe"
      }
    },
    {
      "cell_type": "markdown",
      "source": [
        "#### Part B.2\n",
        "\n",
        "1. 2x - y + 3z + 4w = 10\n",
        "2. 4x - 2y + 6z + 8w = 20\n",
        "3. 3x + y - 2z + 2w = 3\n",
        "4. x + 3y - 4z + w = -1"
      ],
      "metadata": {
        "id": "0pBOpdlqznPn"
      }
    },
    {
      "cell_type": "code",
      "source": [
        "# Coefficient matrix A\n",
        "A = np.array([[2, -1, 3, 4],\n",
        "              [4, -2, 6, 8],\n",
        "              [3, 1, -2, 2],\n",
        "              [1, 3, -4, 1]])\n",
        "\n",
        "# Calculate the determinant\n",
        "det_A = np.linalg.det(A)\n",
        "\n",
        "print(det_A)\n"
      ],
      "metadata": {
        "colab": {
          "base_uri": "https://localhost:8080/"
        },
        "id": "59UjP61Iztws",
        "outputId": "9567b9a5-e18c-4648-c2d3-0523f36eb28d"
      },
      "execution_count": 4,
      "outputs": [
        {
          "output_type": "stream",
          "name": "stdout",
          "text": [
            "0.0\n"
          ]
        }
      ]
    },
    {
      "cell_type": "markdown",
      "source": [
        "The system of equations is singular because the det(A)= 0. The system has no solution, therefore the system cannot be solved."
      ],
      "metadata": {
        "id": "C4RJbwrK7WUw"
      }
    },
    {
      "cell_type": "code",
      "source": [
        "!git config --global user.name \"Messiri4\"\n",
        "!git config --global user.email \"messirimiracle.com\"\n"
      ],
      "metadata": {
        "id": "WZP53kGoVyS7"
      },
      "execution_count": 35,
      "outputs": []
    },
    {
      "cell_type": "code",
      "source": [
        "!git clone https://github.com/Messiri4/Lab-1-Basic-NumPy-Operations\n"
      ],
      "metadata": {
        "colab": {
          "base_uri": "https://localhost:8080/"
        },
        "id": "Yg4Jk-iYW5nb",
        "outputId": "aaab9b35-714a-4eef-d59e-9f0c3a40445a"
      },
      "execution_count": 47,
      "outputs": [
        {
          "output_type": "stream",
          "name": "stdout",
          "text": [
            "fatal: destination path 'Lab-1-Basic-NumPy-Operations' already exists and is not an empty directory.\n"
          ]
        }
      ]
    },
    {
      "cell_type": "code",
      "source": [
        "%cd Lab-1-Basic-NumPy-Operations"
      ],
      "metadata": {
        "colab": {
          "base_uri": "https://localhost:8080/"
        },
        "id": "jx4sipaFefNV",
        "outputId": "86c787e8-4e63-441e-af2a-be0bdf17b58d"
      },
      "execution_count": 49,
      "outputs": [
        {
          "output_type": "stream",
          "name": "stdout",
          "text": [
            "/content/Lab-1-Basic-NumPy-Operations\n"
          ]
        }
      ]
    },
    {
      "cell_type": "code",
      "source": [
        "%cd ..\n"
      ],
      "metadata": {
        "colab": {
          "base_uri": "https://localhost:8080/"
        },
        "id": "_P6QP714icx2",
        "outputId": "c72cfd12-7e6f-4ff9-8fd6-30acbc3b8a6a"
      },
      "execution_count": 56,
      "outputs": [
        {
          "output_type": "stream",
          "name": "stdout",
          "text": [
            "/content\n"
          ]
        }
      ]
    },
    {
      "cell_type": "code",
      "source": [
        "!ls"
      ],
      "metadata": {
        "colab": {
          "base_uri": "https://localhost:8080/"
        },
        "id": "NTV1keQIjy_Y",
        "outputId": "32b27d32-59db-4afa-e580-a0305373ab5d"
      },
      "execution_count": 57,
      "outputs": [
        {
          "output_type": "stream",
          "name": "stdout",
          "text": [
            "Lab-1-Basic-NumPy-Operations  sample_data\n"
          ]
        }
      ]
    },
    {
      "cell_type": "code",
      "source": [
        "%cd sample_data/"
      ],
      "metadata": {
        "colab": {
          "base_uri": "https://localhost:8080/"
        },
        "id": "tT4XEf3sj4jC",
        "outputId": "379ab361-539d-4c82-e6aa-c6303597136b"
      },
      "execution_count": 58,
      "outputs": [
        {
          "output_type": "stream",
          "name": "stdout",
          "text": [
            "/content/sample_data\n"
          ]
        }
      ]
    },
    {
      "cell_type": "code",
      "source": [
        "!ls"
      ],
      "metadata": {
        "colab": {
          "base_uri": "https://localhost:8080/"
        },
        "id": "Dp3pmkqEj_aO",
        "outputId": "b60aa544-d037-46aa-a58b-038abfabe5f5"
      },
      "execution_count": 59,
      "outputs": [
        {
          "output_type": "stream",
          "name": "stdout",
          "text": [
            "anscombe.json\t\t     california_housing_train.csv  mnist_train_small.csv\n",
            "california_housing_test.csv  mnist_test.csv\t\t   README.md\n"
          ]
        }
      ]
    },
    {
      "cell_type": "code",
      "source": [
        "%cd .."
      ],
      "metadata": {
        "colab": {
          "base_uri": "https://localhost:8080/"
        },
        "id": "40uVuTxAkNlN",
        "outputId": "140bf655-b91b-448c-b872-e3885a3d8da8"
      },
      "execution_count": 60,
      "outputs": [
        {
          "output_type": "stream",
          "name": "stdout",
          "text": [
            "/content\n"
          ]
        }
      ]
    },
    {
      "cell_type": "code",
      "source": [
        "%cd .."
      ],
      "metadata": {
        "colab": {
          "base_uri": "https://localhost:8080/"
        },
        "id": "KhENUEOEkQY3",
        "outputId": "3e500fac-ff15-4db5-9839-91bbf7b12691"
      },
      "execution_count": 61,
      "outputs": [
        {
          "output_type": "stream",
          "name": "stdout",
          "text": [
            "/\n"
          ]
        }
      ]
    },
    {
      "cell_type": "code",
      "source": [
        "!ls"
      ],
      "metadata": {
        "colab": {
          "base_uri": "https://localhost:8080/"
        },
        "id": "yTtzE4CckVWN",
        "outputId": "29774c03-3c4f-4b6f-bd03-f35c065a3580"
      },
      "execution_count": 62,
      "outputs": [
        {
          "output_type": "stream",
          "name": "stdout",
          "text": [
            "bin\t\t\t    datalab  lib     media\t\t       proc\t   sbin  tools\n",
            "boot\t\t\t    dev      lib32   mnt\t\t       python-apt  srv\t usr\n",
            "content\t\t\t    etc      lib64   NGC-DL-CONTAINER-LICENSE  root\t   sys\t var\n",
            "cuda-keyring_1.0-1_all.deb  home     libx32  opt\t\t       run\t   tmp\n"
          ]
        }
      ]
    },
    {
      "cell_type": "code",
      "source": [
        "!pwd\n"
      ],
      "metadata": {
        "colab": {
          "base_uri": "https://localhost:8080/"
        },
        "id": "izqxt2f1jgsV",
        "outputId": "fe99795c-7550-4cf5-c01e-eb6bb95c7f6c"
      },
      "execution_count": 54,
      "outputs": [
        {
          "output_type": "stream",
          "name": "stdout",
          "text": [
            "/content/Lab-1-Basic-NumPy-Operations\n"
          ]
        }
      ]
    },
    {
      "cell_type": "code",
      "source": [
        "!mv Miracle_Messiri_9030337_Section2_Lab1.py /content/Lab-1-Basic-NumPy-Operations/\n"
      ],
      "metadata": {
        "colab": {
          "base_uri": "https://localhost:8080/"
        },
        "id": "I8B4Y8YvXWSa",
        "outputId": "9ddb25f8-7de1-4c02-d889-f76884b4e94c"
      },
      "execution_count": 52,
      "outputs": [
        {
          "output_type": "stream",
          "name": "stdout",
          "text": [
            "mv: cannot stat 'Miracle_Messiri_9030337_Section2_Lab1.ipynb': No such file or directory\n"
          ]
        }
      ]
    },
    {
      "cell_type": "code",
      "source": [
        "%cd your_repository\n",
        "!git add .\n",
        "!git commit -m \"Initial commit\"\n"
      ],
      "metadata": {
        "id": "aHKWGF_0ZQZH"
      },
      "execution_count": null,
      "outputs": []
    }
  ]
}